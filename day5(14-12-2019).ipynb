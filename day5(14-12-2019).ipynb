{
 "cells": [
  {
   "cell_type": "code",
   "execution_count": 1,
   "metadata": {},
   "outputs": [
    {
     "data": {
      "text/plain": [
       "3.3333333333333335"
      ]
     },
     "execution_count": 1,
     "metadata": {},
     "output_type": "execute_result"
    }
   ],
   "source": [
    "10/3"
   ]
  },
  {
   "cell_type": "code",
   "execution_count": 2,
   "metadata": {},
   "outputs": [
    {
     "data": {
      "text/plain": [
       "3"
      ]
     },
     "execution_count": 2,
     "metadata": {},
     "output_type": "execute_result"
    }
   ],
   "source": [
    "10//3"
   ]
  },
  {
   "cell_type": "code",
   "execution_count": 3,
   "metadata": {},
   "outputs": [
    {
     "data": {
      "text/plain": [
       "8"
      ]
     },
     "execution_count": 3,
     "metadata": {},
     "output_type": "execute_result"
    }
   ],
   "source": [
    "2**3"
   ]
  },
  {
   "cell_type": "code",
   "execution_count": 4,
   "metadata": {},
   "outputs": [
    {
     "data": {
      "text/plain": [
       "False"
      ]
     },
     "execution_count": 4,
     "metadata": {},
     "output_type": "execute_result"
    }
   ],
   "source": [
    "12<13 and 13>14\n"
   ]
  },
  {
   "cell_type": "code",
   "execution_count": 5,
   "metadata": {},
   "outputs": [
    {
     "data": {
      "text/plain": [
       "True"
      ]
     },
     "execution_count": 5,
     "metadata": {},
     "output_type": "execute_result"
    }
   ],
   "source": [
    "12<13 and 13<14"
   ]
  },
  {
   "cell_type": "code",
   "execution_count": 6,
   "metadata": {},
   "outputs": [
    {
     "data": {
      "text/plain": [
       "True"
      ]
     },
     "execution_count": 6,
     "metadata": {},
     "output_type": "execute_result"
    }
   ],
   "source": [
    "12<13 or 13<14"
   ]
  },
  {
   "cell_type": "code",
   "execution_count": null,
   "metadata": {},
   "outputs": [],
   "source": []
  },
  {
   "cell_type": "code",
   "execution_count": 7,
   "metadata": {},
   "outputs": [
    {
     "data": {
      "text/plain": [
       "True"
      ]
     },
     "execution_count": 7,
     "metadata": {},
     "output_type": "execute_result"
    }
   ],
   "source": [
    "12<13 or 13>14\n"
   ]
  },
  {
   "cell_type": "code",
   "execution_count": 8,
   "metadata": {},
   "outputs": [
    {
     "data": {
      "text/plain": [
       "True"
      ]
     },
     "execution_count": 8,
     "metadata": {},
     "output_type": "execute_result"
    }
   ],
   "source": [
    "not 12>45"
   ]
  },
  {
   "cell_type": "code",
   "execution_count": 11,
   "metadata": {},
   "outputs": [
    {
     "name": "stdout",
     "output_type": "stream",
     "text": [
      "True\n",
      "True\n"
     ]
    }
   ],
   "source": [
    "#membership operators -->in,not in\n",
    "str1=\"abc xyz\"\n",
    "print('a' in str1)\n",
    "print('w' not in str1)\n"
   ]
  },
  {
   "cell_type": "code",
   "execution_count": 13,
   "metadata": {},
   "outputs": [
    {
     "data": {
      "text/plain": [
       "True"
      ]
     },
     "execution_count": 13,
     "metadata": {},
     "output_type": "execute_result"
    }
   ],
   "source": [
    "#identity operators -->is,is not\n",
    "x=10\n",
    "y=10\n",
    "x is y"
   ]
  },
  {
   "cell_type": "code",
   "execution_count": 14,
   "metadata": {},
   "outputs": [
    {
     "name": "stdout",
     "output_type": "stream",
     "text": [
      "140706482463408 140706482463408\n"
     ]
    }
   ],
   "source": [
    "print(id(x),id(y))"
   ]
  },
  {
   "cell_type": "code",
   "execution_count": 15,
   "metadata": {},
   "outputs": [
    {
     "name": "stdout",
     "output_type": "stream",
     "text": [
      "x<y\n"
     ]
    }
   ],
   "source": [
    "x=10\n",
    "y=20\n",
    "print(\"x<y\") if x<y else print(\"x>y\")"
   ]
  },
  {
   "cell_type": "code",
   "execution_count": 22,
   "metadata": {},
   "outputs": [
    {
     "name": "stdout",
     "output_type": "stream",
     "text": [
      "x<y\n",
      "hello\n",
      "h1\n"
     ]
    }
   ],
   "source": [
    "if x<y:\n",
    "    print(\"x<y\")\n",
    "    if 12<78:\n",
    "        print(\"hello\")\n",
    "        print(\"h1\")\n",
    "    else:\n",
    "        print(\"hai\")    \n",
    "else:\n",
    "    print(\"x>y\")"
   ]
  },
  {
   "cell_type": "code",
   "execution_count": null,
   "metadata": {},
   "outputs": [],
   "source": [
    "#accept the number as input and print  whether the given number is positive or negative\n",
    "\n",
    "x=int(input(\"enter a number\"))\n",
    "if x<0:\n",
    "    printf(\"negative\")\n",
    "elif x>0:\n",
    "    print(\"positive\")\n",
    "elif x==0:\n",
    "    print(\"zero\")"
   ]
  },
  {
   "cell_type": "code",
   "execution_count": 1,
   "metadata": {},
   "outputs": [
    {
     "name": "stdout",
     "output_type": "stream",
     "text": [
      "enter a number40\n"
     ]
    }
   ],
   "source": [
    "#accept a number as an input and print the number if it is \n",
    "#divisible by  2 and 3 but not 4\n",
    "x=int(input(\"enter a number\"))\n",
    "if (x%2==0 and x%3==0) and (x%4!=0): \n",
    "    print(x)\n",
    "    "
   ]
  },
  {
   "cell_type": "code",
   "execution_count": 1,
   "metadata": {},
   "outputs": [
    {
     "name": "stdout",
     "output_type": "stream",
     "text": [
      "110 10 10\n",
      "fail\n"
     ]
    }
   ],
   "source": [
    "#accept 3 subject marks of the student\n",
    "#if he gets >30 in all subjects -->average\n",
    "          # <30 in any of the subjct -->fail\n",
    "#avg>75 -->'A'\n",
    "#avg>65 and avg<75-->'B'\n",
    "#avg>50 and avg<65-->'c'\n",
    "#avg>30 and avg<50-->'D'\n",
    "#else -->fail\n",
    "\n",
    "m1,m2,m3 = map(int,input().split())\n",
    "if (m1>30 and m2>30 and m3>30):\n",
    "    avg = (m1+m2+m3)/3\n",
    "    if avg>75:\n",
    "        print('A')\n",
    "    elif avg>65 and avg<75:\n",
    "        print('B')\n",
    "    elif avg>50 and avg<65:\n",
    "        print('c')\n",
    "    elif avg>30 and avg<50:\n",
    "        print('D')\n",
    "    else:\n",
    "        print(\"fail\")\n",
    "        \n",
    "else:\n",
    "    print(\"fail\")\n",
    "\n",
    "\n",
    "\n",
    "\n",
    "\n",
    "\n",
    "\n",
    "\n"
   ]
  },
  {
   "cell_type": "code",
   "execution_count": 20,
   "metadata": {},
   "outputs": [
    {
     "name": "stdout",
     "output_type": "stream",
     "text": [
      "10\n",
      "12345678910"
     ]
    }
   ],
   "source": [
    "#while loop\n",
    "i=1\n",
    "n=int(input())\n",
    "while i<=n:\n",
    "    print(i, end=\"\")\n",
    "    i+=1\n"
   ]
  },
  {
   "cell_type": "code",
   "execution_count": 4,
   "metadata": {},
   "outputs": [
    {
     "name": "stdout",
     "output_type": "stream",
     "text": [
      "19\n",
      "190\n"
     ]
    }
   ],
   "source": [
    "#sum of n natural numbers in the given rang!\n",
    "i = 1\n",
    "sum = 0\n",
    "n = int(input())\n",
    "while i<=n:\n",
    "    sum += i\n",
    "    i += 1\n",
    "print(sum)    "
   ]
  },
  {
   "cell_type": "code",
   "execution_count": 6,
   "metadata": {},
   "outputs": [
    {
     "name": "stdout",
     "output_type": "stream",
     "text": [
      "19\n",
      "90\n"
     ]
    }
   ],
   "source": [
    "#sum of even natural numbers\n",
    "i = 1\n",
    "sum = 0\n",
    "n = int(input())\n",
    "while i<=n:\n",
    "    if i%2==0:\n",
    "         sum += i\n",
    "    i += 1\n",
    "print(sum)    "
   ]
  },
  {
   "cell_type": "code",
   "execution_count": 9,
   "metadata": {},
   "outputs": [
    {
     "name": "stdout",
     "output_type": "stream",
     "text": [
      "123\n",
      "3 2 1 "
     ]
    }
   ],
   "source": [
    "#print digits of a gien number\n",
    "a = int(input())\n",
    "while a!=0:\n",
    "     print(a%10, end =' ')\n",
    "     a = a//10"
   ]
  },
  {
   "cell_type": "code",
   "execution_count": 12,
   "metadata": {},
   "outputs": [
    {
     "name": "stdout",
     "output_type": "stream",
     "text": [
      "123\n",
      "6\n"
     ]
    }
   ],
   "source": [
    "#add of given numbers\n",
    "a=int(input())\n",
    "sum =0\n",
    "while a!=0:\n",
    "    sum=sum+a%10\n",
    "    a=a//10\n",
    "print(sum)\n"
   ]
  },
  {
   "cell_type": "code",
   "execution_count": 24,
   "metadata": {},
   "outputs": [
    {
     "name": "stdout",
     "output_type": "stream",
     "text": [
      "26\n"
     ]
    }
   ],
   "source": [
    "str1 = \"application1889\"\n",
    "#sum of digits in the given string -->1+8+8+9=36\n",
    "i = 0\n",
    "sum = 0\n",
    "while i<len(str1):\n",
    "    if  str1[i].isdigit():\n",
    "        sum +=int(str1[i])\n",
    "    i += 1\n",
    "print(sum)        \n",
    "        "
   ]
  },
  {
   "cell_type": "code",
   "execution_count": 27,
   "metadata": {},
   "outputs": [
    {
     "name": "stdout",
     "output_type": "stream",
     "text": [
      "26\n"
     ]
    }
   ],
   "source": [
    "i = 0\n",
    "sum = 0\n",
    "while i<len(str1):\n",
    "    if ord(str1[i])>=48 and ord(str1[i])<=57:\n",
    "        sum +=int(str1[i])\n",
    "    i += 1\n",
    "print(sum)        \n",
    "        "
   ]
  },
  {
   "cell_type": "code",
   "execution_count": 26,
   "metadata": {},
   "outputs": [
    {
     "name": "stdout",
     "output_type": "stream",
     "text": [
      "26\n"
     ]
    }
   ],
   "source": [
    "s=0\n",
    "for i in str1:\n",
    "    if i.isdigit():\n",
    "        s +=int(i)\n",
    "print(s)"
   ]
  },
  {
   "cell_type": "code",
   "execution_count": 28,
   "metadata": {},
   "outputs": [],
   "source": [
    "#print n natural numbers\n",
    "i = 1\n",
    "sum = 0\n",
    "\n"
   ]
  },
  {
   "cell_type": "code",
   "execution_count": null,
   "metadata": {},
   "outputs": [],
   "source": [
    "#s1=\"a.......z\"\n",
    "#widtth"
   ]
  }
 ],
 "metadata": {
  "kernelspec": {
   "display_name": "Python 3",
   "language": "python",
   "name": "python3"
  },
  "language_info": {
   "codemirror_mode": {
    "name": "ipython",
    "version": 3
   },
   "file_extension": ".py",
   "mimetype": "text/x-python",
   "name": "python",
   "nbconvert_exporter": "python",
   "pygments_lexer": "ipython3",
   "version": "3.7.4"
  }
 },
 "nbformat": 4,
 "nbformat_minor": 2
}
